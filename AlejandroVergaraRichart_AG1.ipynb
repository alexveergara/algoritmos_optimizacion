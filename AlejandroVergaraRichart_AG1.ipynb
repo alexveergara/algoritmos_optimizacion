{
  "nbformat": 4,
  "nbformat_minor": 0,
  "metadata": {
    "colab": {
      "provenance": []
    },
    "kernelspec": {
      "name": "python3",
      "display_name": "Python 3"
    },
    "language_info": {
      "name": "python"
    }
  },
  "cells": [
    {
      "cell_type": "markdown",
      "source": [
        "##**AG1- Actividad Guiada 1**\n",
        "\n",
        "###Alejandro Vergara Richart\n",
        "\n",
        "GitHub: https://github.com/alexveergara/algoritmos_optimizacion"
      ],
      "metadata": {
        "id": "Ni1B-Rhwde0J"
      }
    },
    {
      "cell_type": "markdown",
      "source": [
        "Ejercicio Torres de Hanoi"
      ],
      "metadata": {
        "id": "U9-NBN6WnacN"
      }
    },
    {
      "cell_type": "code",
      "source": [
        "def torres_hanoi(n, origen, dst, pivote):\n",
        "  if n==1:\n",
        "    print(f'>> Mover bloque de {origen} a {dst}.')\n",
        "    return\n",
        "\n",
        "  torres_hanoi(n-1, origen, pivote, dst)\n",
        "  print(f'>> Mover bloque de {origen} a {dst}.')\n",
        "  torres_hanoi(n-1, pivote, dst, origen)\n",
        "\n",
        "torres_hanoi(4, 1, 3, 2)"
      ],
      "metadata": {
        "colab": {
          "base_uri": "https://localhost:8080/"
        },
        "id": "5EMNys3GdmSW",
        "outputId": "54dab4d0-8487-4795-8add-1735b56cb544"
      },
      "execution_count": null,
      "outputs": [
        {
          "output_type": "stream",
          "name": "stdout",
          "text": [
            ">> Mover bloque de 1 a 2.\n",
            ">> Mover bloque de 1 a 3.\n",
            ">> Mover bloque de 2 a 3.\n",
            ">> Mover bloque de 1 a 2.\n",
            ">> Mover bloque de 3 a 1.\n",
            ">> Mover bloque de 3 a 2.\n",
            ">> Mover bloque de 1 a 2.\n",
            ">> Mover bloque de 1 a 3.\n",
            ">> Mover bloque de 2 a 3.\n",
            ">> Mover bloque de 2 a 1.\n",
            ">> Mover bloque de 3 a 1.\n",
            ">> Mover bloque de 2 a 3.\n",
            ">> Mover bloque de 1 a 2.\n",
            ">> Mover bloque de 1 a 3.\n",
            ">> Mover bloque de 2 a 3.\n"
          ]
        }
      ]
    },
    {
      "cell_type": "markdown",
      "source": [
        "Ejercicio Devolver Monedas"
      ],
      "metadata": {
        "id": "VisdSTFOndsV"
      }
    },
    {
      "cell_type": "code",
      "source": [
        "def devolver_cambio(cantidad, sistema):\n",
        "\n",
        "  sistema = sorted(sistema, reverse=True)\n",
        "  print('Sistema:', sistema)\n",
        "\n",
        "  solucion = [0 for i in range(len(sistema))]\n",
        "  valor_acumulado = 0\n",
        "\n",
        "  for i in range(len(sistema)):\n",
        "    n_monedas = int((cantidad - valor_acumulado) / sistema[i])\n",
        "    valor_acumulado += n_monedas * sistema[i]\n",
        "    solucion[i] = n_monedas\n",
        "    print(f'Se toman {n_monedas} de {sistema[i]}')\n",
        "    if valor_acumulado == cantidad:\n",
        "      break\n",
        "\n",
        "  return solucion\n",
        "\n",
        "cambio = devolver_cambio(54, [25, 10, 5, 1])\n"
      ],
      "metadata": {
        "colab": {
          "base_uri": "https://localhost:8080/"
        },
        "id": "AvuT_eimjxHr",
        "outputId": "d173b7c5-9071-4c6b-99a7-e7fabbbd867c"
      },
      "execution_count": null,
      "outputs": [
        {
          "output_type": "stream",
          "name": "stdout",
          "text": [
            "Sistema: [25, 10, 5, 1]\n",
            "Se toman 2 de 25\n",
            "Se toman 0 de 10\n",
            "Se toman 0 de 5\n",
            "Se toman 4 de 1\n"
          ]
        }
      ]
    },
    {
      "cell_type": "markdown",
      "source": [
        "Encontrar los dos puntos más cercanos"
      ],
      "metadata": {
        "id": "g2N7eHi4fVig"
      }
    },
    {
      "cell_type": "code",
      "source": [
        "# Encontrar los dos puntos más cercanos\n",
        "import random\n",
        "from typing import List\n",
        "\n",
        "lista_1d = [random.randrange(1, 10000) for x in range(20)]\n",
        "lista_2d = [(random.randrange(1, 10000), random.randrange(1, 10000)) for x in range(20)]\n"
      ],
      "metadata": {
        "id": "KvPdtKUoozun"
      },
      "execution_count": 6,
      "outputs": []
    },
    {
      "cell_type": "code",
      "source": [
        "import numpy as np\n",
        "def puntos_mas_cercanos_fuerza_bruta(data, dim='1d'):\n",
        "\n",
        "    n = len(data)\n",
        "    min_dist = float('inf')\n",
        "    points = []\n",
        "\n",
        "    # se define la métrica de distancia según la dimension de los datos\n",
        "    if dim == '1d':\n",
        "      compute_dist = lambda x, y: abs(x - y)\n",
        "    elif dim == '2d':\n",
        "      compute_dist = lambda x, y: np.sqrt((x[0] - y[0])**2 + (x[1] - y[1])**2)\n",
        "    else:\n",
        "      raise('No distance metric available.')\n",
        "\n",
        "    for i in range(n-1):\n",
        "        for j in range(i + 1, n):\n",
        "          # if i == j:\n",
        "          #   continue\n",
        "\n",
        "          # cálculo de la distancia\n",
        "          distancia = compute_dist(data[i], data[j])\n",
        "\n",
        "          # si la distancia es menor a la actual se actualiza la distancia\n",
        "          # mínima y se añade la pareja de puntos\n",
        "          if distancia < min_dist:\n",
        "              min_dist = distancia\n",
        "              points = [(data[i], data[j])]\n",
        "\n",
        "          # si la distancia es igual a la mínima también se guarda la pareja\n",
        "          # de puntos\n",
        "          # elif distancia == min_dist:\n",
        "          #     points.append((data[i], data[j]))\n",
        "\n",
        "    return points, min_dist\n",
        "\n",
        "puntos, dist = puntos_mas_cercanos_fuerza_bruta(lista_2d, '2d')\n",
        "print(f'Los puntos más cercanos han sido {puntos}, a una distancia {round(dist,3)}.')"
      ],
      "metadata": {
        "colab": {
          "base_uri": "https://localhost:8080/",
          "height": 0
        },
        "id": "8HE1lfJa5IhX",
        "outputId": "96d8205e-9f8b-4433-a358-95d1bd6cba79"
      },
      "execution_count": 3,
      "outputs": [
        {
          "output_type": "stream",
          "name": "stdout",
          "text": [
            "Los puntos más cercanos han sido [((9912, 7359), (9912, 7352))], a una distancia 7.0.\n"
          ]
        }
      ]
    },
    {
      "cell_type": "markdown",
      "source": [
        "La complejidad de este enfoque es O(n^2), ya que comparamos cada par de puntos en la lista. Para reducir la complejidad a O(nlog(n)) se puede emplear la estrategia \"Divide y vencerás\". Así se muestra en la siguiente celda."
      ],
      "metadata": {
        "id": "XNqCASs94r_K"
      }
    },
    {
      "cell_type": "code",
      "source": [
        "def distancia(p1, p2, dim):\n",
        "    if dim == '1d':\n",
        "        return abs(p1 - p2)\n",
        "    elif dim == '2d':\n",
        "        return math.sqrt((p1[0] - p2[0])**2 + (p1[1] - p2[1])**2)\n",
        "\n",
        "def puntos_mas_cercanos_divide_y_venceras(lista, dim='1d'):\n",
        "\n",
        "  n_elements = len(lista)\n",
        "  if n_elements < 5:\n",
        "    puntos_mas_cercanos_fuerza_bruta(lista, dim)\n",
        "\n",
        "  # Ordena la lista por la coordenada X (o el primer elemento en 2D)\n",
        "  lista.sort(key=lambda punto: punto[0] if dim == '2d' else punto)\n",
        "\n",
        "  if n_elements == 2:\n",
        "      return lista[0], distancia(lista[0], lista[1], dim)\n",
        "\n",
        "  # Se divide en dos subsets\n",
        "  pto_medio = n_elements // 2\n",
        "  left = lista[:pto_medio]\n",
        "  right = lista[pto_medio:]\n",
        "\n",
        "  # Llamada recursiva\n",
        "  p_l, min_dist_l = puntos_mas_cercanos_divide_y_venceras(left, dim)\n",
        "  p_r, min_dist_r = puntos_mas_cercanos_divide_y_venceras(right, dim)\n",
        "\n",
        "  min_dist_franja = distancia_franja(lista, min(min_dist_l, min_dist_r), dim)\n",
        "\n",
        "  if min_dist_l < min_dist_r:\n",
        "    min_dist = min_dist_l\n",
        "    p = p_l\n",
        "  else:\n",
        "    min_dist = min_dist_r\n",
        "    p = p_r\n",
        "\n",
        "  # Compara con la distancia mínima en la franja\n",
        "  if min_dist_franja < min_dist:\n",
        "      return p, min_dist_franja\n",
        "\n",
        "  return p, min_dist\n",
        "\n",
        "\n",
        "def distancia_franja(lista, delta, dim):\n",
        "    n = len(lista)\n",
        "\n",
        "    if dim == '1d':\n",
        "        # Ordena la franja por coordenada Y (o el segundo elemento en 2D)\n",
        "        lista.sort(key=lambda punto: punto[1] if dim == '2d' else punto)\n",
        "\n",
        "        # Calcula la distancia mínima en la franja\n",
        "        for i in range(n):\n",
        "            for j in range(i + 1, n):\n",
        "                if lista[j][1] - lista[i][1] >= delta:\n",
        "                    break\n",
        "                delta = min(delta, distancia(lista[i], lista[j], dim))\n",
        "\n",
        "    elif dim == '2d':\n",
        "        # Ordena la franja por coordenada X\n",
        "        lista.sort(key=lambda punto: punto[0])\n",
        "\n",
        "        # Almacena los puntos dentro de la franja\n",
        "        franja = []\n",
        "        for punto in lista:\n",
        "            if abs(punto[0] - lista[n // 2][0]) < delta:\n",
        "                franja.append(punto)\n",
        "\n",
        "        # Calcula la distancia mínima en la franja\n",
        "        for i in range(len(franja)):\n",
        "            for j in range(i + 1, min(i + 15, len(franja))):\n",
        "                delta = min(delta, distancia(franja[i], franja[j], dim))\n",
        "\n",
        "    return delta"
      ],
      "metadata": {
        "id": "ekh7CSdRhNDM"
      },
      "execution_count": 11,
      "outputs": []
    },
    {
      "cell_type": "code",
      "source": [
        "puntos_mas_cercanos_divide_y_venceras(lista_1d)"
      ],
      "metadata": {
        "id": "yLpUhd3fkwAk"
      },
      "execution_count": null,
      "outputs": []
    },
    {
      "cell_type": "markdown",
      "source": [
        "**Obtengo un error que hace referencia a que he alcanzado el límite de recursión permitido para un objeto de Python.**"
      ],
      "metadata": {
        "id": "iX2qs7ZzodFp"
      }
    },
    {
      "cell_type": "code",
      "source": [],
      "metadata": {
        "id": "2bvXENlHopok"
      },
      "execution_count": null,
      "outputs": []
    }
  ]
}